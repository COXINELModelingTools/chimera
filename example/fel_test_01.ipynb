{
 "cells": [
  {
   "cell_type": "code",
   "execution_count": 1,
   "metadata": {
    "collapsed": false,
    "slideshow": {
     "slide_type": "slide"
    }
   },
   "outputs": [
    {
     "name": "stdout",
     "output_type": "stream",
     "text": [
      "Using matplotlib backend: GTK3Agg\n"
     ]
    }
   ],
   "source": [
    "%matplotlib\n",
    "import numpy as np\n",
    "import matplotlib.pyplot as plt\n",
    "from ipyparallel import Client\n",
    "clnts = Client(profile='mpi')\n",
    "clnts[:].clear()\n",
    "clnts[:].activate()\n",
    "%px from mpi4py.MPI import COMM_WORLD as comm\n",
    "\n",
    "mpiindx = range(len(clnts))\n",
    "for i in xrange(len(clnts)): mpiindx[clnts[i]['comm.rank']] = i\n",
    "view = clnts[mpiindx]\n",
    "\n",
    "mpistackR = lambda x:np.vstack((view[x]))\n",
    "mpistackD = lambda x: np.sum((view[x]),axis=0)\n",
    "mpistackP = lambda x: np.concatenate((view[x]),axis=-1)\n",
    "def mpistackRover(x):\n",
    "    loc_arrays = []\n",
    "    for i in xrange(len(view[x])-1):\n",
    "        dat = view[x][i].copy()\n",
    "        dat[:,-1] += view[x][i+1][:,0]\n",
    "        dat = dat[:,1:]\n",
    "        loc_arrays.append(dat)\n",
    "    return np.hstack((loc_arrays))"
   ]
  },
  {
   "cell_type": "code",
   "execution_count": 2,
   "metadata": {
    "collapsed": true,
    "slideshow": {
     "slide_type": "slide"
    }
   },
   "outputs": [],
   "source": [
    "%%px --block --verbose\n",
    "\n",
    "import numpy as np\n",
    "from sys import path\n",
    "path.append('./src/')\n",
    "path.append('./moduls/')\n",
    "from species import Specie\n",
    "from solvers import Solver\n",
    "from chimera_main import ChimeraRun\n",
    "import numpy as np\n",
    "import fimera as chimera\n",
    "\n",
    "dt = 0.015\n",
    "BoxGrid     = (-0.01 ,0.01 ,0.08  ,0.0002,0.001  )\n",
    "BoxGridBeam = (-0.006,0.006,0.0036,0.0001,0.00012)\n",
    "\n",
    "k_res = 105600.205166\n",
    "gg = 391.397366/(1.+1.95**2/2)\n",
    "vb = (1.-gg**-2)**0.5\n",
    "\n",
    "solver_in = {'MaxAzimuthMode':2, 'Grid':BoxGrid, 'KxShift':k_res,'TimeStep':dt, 'Rcut':0.05, \n",
    "'Features':('NoPoissonCorrection',)}\n",
    "\n",
    "seed_in = {'a0':0.107,'k0':k_res,'x0':0.0,'x_foc':25.0,'Lx':0.00107,'LR':0.00656215} \n",
    "solver = Solver(comm,solver_in) \n",
    "solver.add_gauss_beam(seed_in)\n",
    "\n",
    "Devices = (['MagneticUndulator1D',1.95, (1.,0.,1e9,1.),[0.,-0.01,0.01]],)\n",
    "\n",
    "specie_in = {'RandCell':30, 'Charge':-1., 'Density':56.6, 'Mass':1., 'Grid':BoxGridBeam, 'TimeStep':dt, \n",
    "'MomentaMeans':(391.397366,0.,0.), 'MomentaSpreads':(0.03914,0.008,0.008), 'NoiseRemv':(k_res,), \n",
    "'Features':(),'Devices':Devices}\n",
    "\n",
    "specie = Specie(comm,specie_in)\n",
    "\n",
    "rankstr = str(comm.rank)\n",
    "while len(rankstr)<3: rankstr = '0'+rankstr\n",
    "specie.particles = np.load('phs_0_'+rankstr+'_0000000.npy')\n",
    "specie.particles_cntr = specie.particles[:3]\n",
    "specie.EB = np.zeros((6,specie.particles.shape[-1]))\n",
    "\n",
    "#specie.add_particles(specie.gen_parts((-0.00535,0.00535,0.0,0.0034)))\n",
    "#specie.correct_fel()\n",
    "\n",
    "MovingFrame = {'TimeStep':dt,'Steps':1,'Velocity':vb}\n",
    "\n",
    "chimera_in = {'Solvers':(solver,),'Particles':(specie,),'MovingFrames':(MovingFrame,)}\n",
    "\n",
    "Chimera = ChimeraRun(comm,chimera_in)\n",
    "Chimera.make_halfstep()"
   ]
  },
  {
   "cell_type": "code",
   "execution_count": 3,
   "metadata": {
    "collapsed": false,
    "slideshow": {
     "slide_type": "slide"
    }
   },
   "outputs": [
    {
     "name": "stdout",
     "output_type": "stream",
     "text": [
      "[stdout:0] 3999\n",
      "[stdout:1] 3999\n",
      "[stdout:2] 3999\n"
     ]
    }
   ],
   "source": [
    "%%px --block --verbose\n",
    "\n",
    "centr =np.zeros((2,0))\n",
    "nrg = np.zeros(0)\n",
    "for i in xrange(4000):\n",
    "    Chimera.make_step(i*dt)\n",
    "    #xc = comm.reduce(  (specie.particles[1]*specie.particles[-1]).sum()   )\n",
    "    #w_div = comm.reduce(specie.particles[-1].sum())\n",
    "    #yc = comm.reduce(  (specie.particles[2]*specie.particles[-1]).sum()   )\n",
    "    if comm.rank==0: \n",
    "        #centr = np.concatenate((centr, np.array([xc/w_div,yc/w_div])[:,None]),axis=-1)\n",
    "        if np.mod( i,int(1./dt) )==0:\n",
    "            nrg = np.r_[ nrg, (abs(solver.EG_fb[:,:,:,:3])**2*solver.Args['EnergyFact']).sum()]\n",
    "print i"
   ]
  },
  {
   "cell_type": "code",
   "execution_count": 4,
   "metadata": {
    "collapsed": false,
    "slideshow": {
     "slide_type": "skip"
    }
   },
   "outputs": [
    {
     "data": {
      "text/plain": [
       "[<matplotlib.lines.Line2D at 0x7f728ada49d0>]"
      ]
     },
     "execution_count": 4,
     "metadata": {},
     "output_type": "execute_result"
    }
   ],
   "source": [
    "plt.clf()\n",
    "plt.plot(clnts[mpiindx[0]]['nrg']*2.8e3)"
   ]
  },
  {
   "cell_type": "code",
   "execution_count": 72,
   "metadata": {
    "collapsed": false,
    "slideshow": {
     "slide_type": "skip"
    }
   },
   "outputs": [
    {
     "data": {
      "text/plain": [
       "<matplotlib.colorbar.Colorbar at 0x7ff8c4f97ad0>"
      ]
     },
     "execution_count": 72,
     "metadata": {},
     "output_type": "execute_result"
    }
   ],
   "source": [
    "plt.clf()\n",
    "plt.imshow( clnts[mpiindx[0]]['np.abs(solver.EG_fb[:,:,2,2]).T'],aspect='auto',origin='lower',cmap='spectral')\n",
    "plt.colorbar()"
   ]
  },
  {
   "cell_type": "code",
   "execution_count": 66,
   "metadata": {
    "collapsed": false,
    "slideshow": {
     "slide_type": "skip"
    }
   },
   "outputs": [
    {
     "data": {
      "text/plain": [
       "[<matplotlib.lines.Line2D at 0x7ff8c7056910>]"
      ]
     },
     "execution_count": 66,
     "metadata": {},
     "output_type": "execute_result"
    }
   ],
   "source": [
    "plt.clf()\n",
    "plt.plot(clnts[mpiindx[0]]['centr[1]'])"
   ]
  },
  {
   "cell_type": "code",
   "execution_count": 76,
   "metadata": {
    "collapsed": false,
    "slideshow": {
     "slide_type": "skip"
    }
   },
   "outputs": [
    {
     "data": {
      "text/plain": [
       "[<matplotlib.lines.Line2D at 0x7ff8c3ba8fd0>]"
      ]
     },
     "execution_count": 76,
     "metadata": {},
     "output_type": "execute_result"
    }
   ],
   "source": [
    "plt.clf()\n",
    "plt.plot(mpistackP('specie.particles[1]'),mpistackP('specie.particles[2]'),'.',alpha=0.01)"
   ]
  },
  {
   "cell_type": "code",
   "execution_count": null,
   "metadata": {
    "collapsed": true,
    "slideshow": {
     "slide_type": "skip"
    }
   },
   "outputs": [],
   "source": [
    "clnts[mpiindx[0]]['np.abs(solver.EG_fb[:,:,2,2]).T']"
   ]
  }
 ],
 "metadata": {
  "celltoolbar": "Slideshow",
  "kernelspec": {
   "display_name": "Python 2",
   "language": "python",
   "name": "python2"
  },
  "language_info": {
   "codemirror_mode": {
    "name": "ipython",
    "version": 2
   },
   "file_extension": ".py",
   "mimetype": "text/x-python",
   "name": "python",
   "nbconvert_exporter": "python",
   "pygments_lexer": "ipython2",
   "version": "2.7.9"
  }
 },
 "nbformat": 4,
 "nbformat_minor": 0
}
