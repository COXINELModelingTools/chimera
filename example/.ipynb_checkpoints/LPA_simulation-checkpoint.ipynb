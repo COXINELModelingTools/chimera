{
 "cells": [
  {
   "cell_type": "markdown",
   "metadata": {},
   "source": [
    "# Importing the code, numpy and graphics utilities"
   ]
  },
  {
   "cell_type": "code",
   "execution_count": 1,
   "metadata": {
    "collapsed": false
   },
   "outputs": [
    {
     "name": "stdout",
     "output_type": "stream",
     "text": [
      "Using matplotlib backend: MacOSX\n"
     ]
    }
   ],
   "source": [
    "from chimera.moduls.species import Specie\n",
    "from chimera.moduls.solvers import Solver\n",
    "from chimera.moduls.chimera_main import ChimeraRun\n",
    "from chimera.moduls.diagnostics import Diagnostics\n",
    "\n",
    "import numpy as np\n",
    "import matplotlib.pyplot as plt\n",
    "import matplotlib.animation as animation\n",
    "\n",
    "%matplotlib\n",
    "mymap1 = plt.cm.seismic;mymap1._init()\n",
    "mymap1._lut[:,-1] = abs(np.sin(np.r_[-0.5*np.pi:0.5*np.pi:259j]))\n",
    "mymap2 = plt.cm.PiYG;mymap2._init()\n",
    "mymap2._lut[:,-1] = abs(np.sin(np.r_[-0.5*np.pi:0.5*np.pi:259j]))**2"
   ]
  },
  {
   "cell_type": "markdown",
   "metadata": {},
   "source": [
    "## Preparing the input"
   ]
  },
  {
   "cell_type": "code",
   "execution_count": 13,
   "metadata": {
    "collapsed": true
   },
   "outputs": [],
   "source": [
    "dt = 0.04\n",
    "Steps2Do = 4001\n",
    "BoxGrid = (-50.,0.0,16.,0.04,0.3)\n",
    "densprof = lambda x: np.interp(x, [0.,40.,50.,300],[0.,1.,0.5,0.5])"
   ]
  },
  {
   "cell_type": "markdown",
   "metadata": {},
   "source": [
    "## Arguments for the simulation components"
   ]
  },
  {
   "cell_type": "code",
   "execution_count": 14,
   "metadata": {
    "collapsed": false
   },
   "outputs": [],
   "source": [
    "electrons_in = {\n",
    "    'Charge':-1., 'Mass':1., 'Density':0.005, \n",
    "    'Grid':BoxGrid, 'TimeStep':dt,'FixedCell':(2,2,4), 'Xchunked':(4,20),'Features':('NoSorting',)\n",
    "}\n",
    "\n",
    "ions_in = {\n",
    "    'Charge':1.,'Mass':1886., 'Density':0.005, \n",
    "    'Grid':BoxGrid, 'TimeStep':dt,'FixedCell':(2,2,4),'Xchunked':(4,20), 'Features':('NoSorting','Still')\n",
    "}\n",
    "\n",
    "solver_in = {\n",
    "    'Grid':BoxGrid,'TimeStep':dt, 'MaxAzimuthMode':1,\n",
    "    'Xchunked':(4,41),'Features':('SpaceCharge','StillAsBackground')\n",
    "}\n",
    "\n",
    "laser_in = {\n",
    "    'a0':3.0,'k0':1.0,'x0':-14.0,'x_foc':45.0,'Lx':4,'LR':4\n",
    "}\n",
    "\n",
    "MovingFrame = {\n",
    "    'TimeStep':dt,'Steps':20,'AbsorbLayer':10.,'AddPlasma':densprof\n",
    "}"
   ]
  },
  {
   "cell_type": "markdown",
   "metadata": {},
   "source": [
    "## Constructing the simulation components"
   ]
  },
  {
   "cell_type": "code",
   "execution_count": 15,
   "metadata": {
    "collapsed": false
   },
   "outputs": [
    {
     "name": "stdout",
     "output_type": "stream",
     "text": [
      "Constructing a solver in the cylindric box (-50.0, 0.0, 16.0)\n",
      "spatial and temporal resolutions are (0.04, 0.3, 0.04)\n",
      "Grid resolutions are  (1248, 53, 2)\n",
      "Space charge is added\n",
      "\"Still\" species as are treated as background\n"
     ]
    }
   ],
   "source": [
    "solver = Solver(solver_in)\n",
    "solver.add_gauss_beam(laser_in)\n",
    "electrons = Specie(electrons_in)\n",
    "ions = Specie(ions_in)\n",
    "\n",
    "chimera_in = {\n",
    "    'Solvers':(solver,),'Particles':(electrons,ions),'MovingFrames':(MovingFrame,)\n",
    "}\n",
    "\n",
    "Chimera = ChimeraRun(chimera_in)\n",
    "Diags = Diagnostics(Chimera,(),out_folder=None)"
   ]
  }
 ],
 "metadata": {
  "kernelspec": {
   "display_name": "Python 2",
   "language": "python",
   "name": "python2"
  },
  "language_info": {
   "codemirror_mode": {
    "name": "ipython",
    "version": 2
   },
   "file_extension": ".py",
   "mimetype": "text/x-python",
   "name": "python",
   "nbconvert_exporter": "python",
   "pygments_lexer": "ipython2",
   "version": "2.7.11"
  }
 },
 "nbformat": 4,
 "nbformat_minor": 0
}
