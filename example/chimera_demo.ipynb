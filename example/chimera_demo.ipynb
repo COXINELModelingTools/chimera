{
 "cells": [
  {
   "cell_type": "markdown",
   "metadata": {},
   "source": [
    "# Importing the code, numpy and graphics utilities"
   ]
  },
  {
   "cell_type": "code",
   "execution_count": 1,
   "metadata": {
    "collapsed": false
   },
   "outputs": [
    {
     "name": "stdout",
     "output_type": "stream",
     "text": [
      "Using matplotlib backend: MacOSX\n"
     ]
    }
   ],
   "source": [
    "from sys import path\n",
    "path.append('./src/')\n",
    "path.append('./moduls/')\n",
    "\n",
    "import fimera as chimera\n",
    "from species import Specie\n",
    "from solvers import Solver\n",
    "from chimera_main import ChimeraRun\n",
    "from diagnostics import Diagnostics\n",
    "\n",
    "import numpy as np\n",
    "import matplotlib.pyplot as plt\n",
    "import matplotlib.animation as animation\n",
    "\n",
    "%matplotlib\n",
    "mymap1 = plt.cm.seismic;mymap1._init()\n",
    "mymap1._lut[:,-1] = abs(np.sin(np.r_[-0.5*np.pi:0.5*np.pi:259j]))\n",
    "mymap2 = plt.cm.PiYG;mymap2._init()\n",
    "mymap2._lut[:,-1] = abs(np.sin(np.r_[-0.5*np.pi:0.5*np.pi:259j]))**2"
   ]
  },
  {
   "cell_type": "markdown",
   "metadata": {},
   "source": [
    "# FEL SIMULATION"
   ]
  },
  {
   "cell_type": "markdown",
   "metadata": {},
   "source": [
    "# Defining the simulation parameters"
   ]
  },
  {
   "cell_type": "markdown",
   "metadata": {},
   "source": [
    "## Undulator"
   ]
  },
  {
   "cell_type": "code",
   "execution_count": null,
   "metadata": {
    "collapsed": true
   },
   "outputs": [],
   "source": [
    "K0 = 1.95\n",
    "Periods = 350\n",
    "lam0 = 2.8"
   ]
  },
  {
   "cell_type": "markdown",
   "metadata": {},
   "source": [
    "## Electron beam"
   ]
  },
  {
   "cell_type": "code",
   "execution_count": null,
   "metadata": {
    "collapsed": true
   },
   "outputs": [],
   "source": [
    "g0 = 200/0.511\n",
    "lbx  = 80e-4/lam0\n",
    "lbr  = 90e-4/lam0"
   ]
  },
  {
   "cell_type": "markdown",
   "metadata": {},
   "source": [
    "## Simulation grid"
   ]
  },
  {
   "cell_type": "code",
   "execution_count": null,
   "metadata": {
    "collapsed": true
   },
   "outputs": [],
   "source": [
    "Lgx  = 200e-4  /lam0\n",
    "Rg   = 2000e-4  /lam0\n",
    "Rg_cut = 800e-4/lam0"
   ]
  },
  {
   "cell_type": "markdown",
   "metadata": {},
   "source": [
    "## Preparing input"
   ]
  },
  {
   "cell_type": "code",
   "execution_count": null,
   "metadata": {
    "collapsed": true
   },
   "outputs": [],
   "source": [
    "dt = 1./40\n",
    "Steps2Do = int(Periods/dt)+1\n",
    "\n",
    "BoxGrid     = (-0.5*Lgx, 0.5*Lgx, Rg, Lgx/80., Rg/80.)\n",
    "BoxGridBeam = (-0.5*Lgx, 0.5*Lgx, Rg, Lgx/80., lbr/50.)\n",
    "Domain = (-0.5*lbx, 0.5*lbx, 0.0, lbr)\n",
    "\n",
    "k_res = 2*g0**2/(1+K0**2/2)\n",
    "gg = g0/(1.+K0**2/2)**.5\n",
    "vb = (1.-gg**-2)**0.5\n",
    "\n",
    "micro_scl = lam0*1e4\n",
    "nano_scl = lam0*1e7"
   ]
  },
  {
   "cell_type": "markdown",
   "metadata": {},
   "source": [
    "## Arguments for the simulation components"
   ]
  },
  {
   "cell_type": "code",
   "execution_count": null,
   "metadata": {
    "collapsed": true
   },
   "outputs": [],
   "source": [
    "beam_in = {\n",
    "    'Charge':-1.,'Mass':1.,'Density':56.6, 'MomentaMeans':(g0,0.,0.), 'MomentaSpreads':(1e-4*g0,0.008,0.008),\n",
    "    'Grid':BoxGridBeam, 'TimeStep':dt,'RandCell':30,'Xchunked':(8,6),\n",
    "    'Devices':([chimera.undul_analytic,np.array([K0, 1., 1., 1000.])],)\n",
    "}\n",
    "\n",
    "solver_in = {\n",
    "    'Grid':BoxGrid, 'TimeStep':dt, 'MaxAzimuthMode':2, 'KxShift':k_res,'CoPropagative':vb,\n",
    "    'Rcut':800e-4/lam0 ,'Xchunked':(8,6)\n",
    "}\n",
    "\n",
    "seed_in = {\n",
    "    'a0':0.107,'k0':k_res,'x0':-30e-4/lam0,'x_foc':70.0/lam0,'Lx':15e-4/lam0,'LR':180e-4/lam0\n",
    "}\n",
    "\n",
    "MovingFrame = {\n",
    "    'TimeStep':dt,'Steps':1,'Velocity':vb,'Features':('Staged','NoSorting')\n",
    "}"
   ]
  },
  {
   "cell_type": "markdown",
   "metadata": {},
   "source": [
    "## Constructing the simulation components"
   ]
  },
  {
   "cell_type": "code",
   "execution_count": null,
   "metadata": {
    "collapsed": false
   },
   "outputs": [],
   "source": [
    "specie = Specie(beam_in)\n",
    "specie.add_particles(specie.gen_parts(Domain=Domain))\n",
    "specie.denoise((k_res,))\n",
    "solver = Solver(solver_in)\n",
    "solver.add_gauss_beam(seed_in)\n",
    "\n",
    "chimera_in = {'Solvers':(solver,),'Particles':(specie,),'MovingFrames':(MovingFrame,)}\n",
    "Chimera = ChimeraRun(chimera_in)\n",
    "\n",
    "Diags = Diagnostics(Chimera,(),out_folder=None)"
   ]
  },
  {
   "cell_type": "markdown",
   "metadata": {},
   "source": [
    "# Running the simulation"
   ]
  },
  {
   "cell_type": "code",
   "execution_count": null,
   "metadata": {
    "collapsed": true
   },
   "outputs": [],
   "source": [
    "Chimera.make_halfstep()\n",
    "for i in xrange(Steps2Do): Chimera.make_step(i)"
   ]
  },
  {
   "cell_type": "markdown",
   "metadata": {},
   "source": [
    "# Animated run example"
   ]
  },
  {
   "cell_type": "code",
   "execution_count": null,
   "metadata": {
    "collapsed": false
   },
   "outputs": [],
   "source": [
    "Chimera.make_halfstep()\n",
    "nrg0 = Diags.nrg_out({'Features':('Return',)})[0]*lam0*1e6\n",
    "pwr0 = Diags.pwr_out({'Features':('Return','Spot')})[0]\n",
    "xx = solver.Args['Xgrid']*micro_scl\n",
    "rr = solver.Args['RgridFull'][None,1:]*micro_scl*1e-3\n",
    "oo = np.r_[0:2*np.pi:60j][:,None]\n",
    "\n",
    "fig, ((ax1,ax2),(ax3,ax4)) = plt.subplots(2,2,figsize=(16,16),dpi=90)\n",
    "\n",
    "diag_nrg = [nrg0.sum(),]\n",
    "pl1, = ax1.semilogy([0,],diag_nrg,)\n",
    "ax1.set_xlim(0,1.1*Periods*micro_scl*1e-6)\n",
    "ax1.set_ylim(1e-4,1e2)\n",
    "ax1.set_title('Radiation energy',size=16)\n",
    "ax1.set_xlabel('distance (m)',size=16)\n",
    "ax1.set_ylabel('Energy ($\\mu$J)',size=16)\n",
    "\n",
    "pl2 = ax2.pcolormesh(rr*np.sin(oo),rr*np.cos(oo),\n",
    "                     Diags.pwr_out({'Features':('Return','Spot')})[0][1],\n",
    "                     cmap='hot',shading='gouraud')\n",
    "ax2.set_xlim(-0.38,0.38)\n",
    "ax2.set_ylim(-0.38,0.38)\n",
    "ax2.set_title('Intensity profile',size=16)\n",
    "ax2.set_xlabel('x (mm)',size=16)\n",
    "ax2.set_ylabel('y (mm)',size=16)\n",
    "\n",
    "pl3, = ax3.plot(xx,pwr0[0]*1e-6,)\n",
    "ax3.set_title('Power profile',size=16)\n",
    "ax3.set_xlabel('z ($\\mu$m)',size=16)\n",
    "ax3.set_ylabel('P (MW)',size=16)\n",
    "\n",
    "pl4 = ax4.imshow(chimera.density_2x(specie.particles[1]*lam0*10,\n",
    "                 specie.particles[2]*lam0*10,specie.particles[-1],\n",
    "                 (-0.4,0.4,-0.4,0.4),200,200), origin='lower',\n",
    "                 aspect='auto',cmap='hot_r',\n",
    "                 extent=(-0.4,0.4,-0.4,0.4))\n",
    "ax4.set_xlim(-0.38,0.38)\n",
    "ax4.set_ylim(-0.38,0.38)\n",
    "ax4.set_title('Beam profile',size=16)\n",
    "ax4.set_xlabel('x (mm)',size=16)\n",
    "ax4.set_ylabel('y (mm)',size=16)\n",
    "\n",
    "StepAnim = int(1./dt/6)\n",
    "\n",
    "def animate(i):\n",
    "    for il in xrange(i*StepAnim,(i+1)*StepAnim):\n",
    "        Chimera.make_step(il)\n",
    "    pwr0 = Diags.pwr_out({'Features':('Return','Spot')})[0]\n",
    "    nrg0 = Diags.nrg_out({'Features':('Return',)})[0]*lam0*1e6\n",
    "    dens = chimera.density_2x(specie.particles[1]*lam0*10,\n",
    "        specie.particles[2]*lam0*10,specie.particles[-1],\n",
    "                 (-0.4,0.4,-0.4,0.4),200,200)\n",
    "\n",
    "    diag_nrg.append(nrg0.sum())\n",
    "    pl1.set_xdata(np.arange(len(diag_nrg))*StepAnim*dt*micro_scl*1e-6)\n",
    "    pl1.set_ydata(diag_nrg)\n",
    "\n",
    "    pl2.set_array(pwr0[1].ravel())\n",
    "    pl2.set_clim(0,pwr0[1].max())\n",
    "\n",
    "    pl3.set_ydata(pwr0[0]*1e-6)\n",
    "    ax3.set_ylim(0,1.1*pwr0[0].max()*1e-6)\n",
    "\n",
    "    pl4.set_data(dens)\n",
    "    pl4.set_clim(dens.min(),0)\n",
    "\n",
    "    return pl1,"
   ]
  },
  {
   "cell_type": "code",
   "execution_count": null,
   "metadata": {
    "collapsed": false
   },
   "outputs": [],
   "source": [
    "%timeit animate(0)"
   ]
  },
  {
   "cell_type": "code",
   "execution_count": null,
   "metadata": {
    "collapsed": false
   },
   "outputs": [],
   "source": [
    "ani = animation.FuncAnimation(fig, animate,frames=int(Periods/dt/StepAnim),blit=True,repeat=False)\n",
    "#plt.show()"
   ]
  },
  {
   "cell_type": "code",
   "execution_count": null,
   "metadata": {
    "collapsed": false
   },
   "outputs": [],
   "source": [
    "plt.rcParams['animation.ffmpeg_path'] = '/usr/local/bin/ffmpeg'\n",
    "FFwriter = animation.FFMpegWriter(fps=20)\n",
    "ani.save('basic_animation.mp4', writer = FFwriter)"
   ]
  },
  {
   "cell_type": "markdown",
   "metadata": {},
   "source": [
    "# LASER PLASMA ACCELERATION PIC SIMULATION"
   ]
  },
  {
   "cell_type": "markdown",
   "metadata": {},
   "source": [
    "## Preparing the input"
   ]
  },
  {
   "cell_type": "code",
   "execution_count": 13,
   "metadata": {
    "collapsed": true
   },
   "outputs": [],
   "source": [
    "dt = 0.04\n",
    "Steps2Do = 4001\n",
    "BoxGrid = (-50.,0.0,16.,0.04,0.3)\n",
    "densprof = lambda x: np.interp(x, [0.,40.,50.,300],[0.,1.,0.5,0.5])"
   ]
  },
  {
   "cell_type": "markdown",
   "metadata": {},
   "source": [
    "## Arguments for the simulation components"
   ]
  },
  {
   "cell_type": "code",
   "execution_count": 14,
   "metadata": {
    "collapsed": false
   },
   "outputs": [],
   "source": [
    "electrons_in = {\n",
    "    'Charge':-1., 'Mass':1., 'Density':0.005, \n",
    "    'Grid':BoxGrid, 'TimeStep':dt,'FixedCell':(2,2,3), 'Xchunked':(4,41),'Features':('NoSorting',)\n",
    "}\n",
    "\n",
    "ions_in = {\n",
    "    'Charge':1.,'Mass':1886., 'Density':0.005, \n",
    "    'Grid':BoxGrid, 'TimeStep':dt,'FixedCell':(3,3,4),'Xchunked':(4,41), 'Features':('NoSorting','Still')\n",
    "}\n",
    "\n",
    "solver_in = {\n",
    "    'Grid':BoxGrid,'TimeStep':dt, 'MaxAzimuthMode':1,\n",
    "    'Xchunked':(4,41),'Features':('SpaceCharge','StillAsBackground')\n",
    "}\n",
    "\n",
    "laser_in = {\n",
    "    'a0':3.0,'k0':1.0,'x0':-14.0,'x_foc':45.0,'Lx':4,'LR':4\n",
    "}\n",
    "\n",
    "MovingFrame = {\n",
    "    'TimeStep':dt,'Steps':40,'AbsorbLayer':10.,'AddPlasma':densprof\n",
    "}"
   ]
  },
  {
   "cell_type": "markdown",
   "metadata": {},
   "source": [
    "## Constructing the simulation components"
   ]
  },
  {
   "cell_type": "code",
   "execution_count": 15,
   "metadata": {
    "collapsed": false
   },
   "outputs": [
    {
     "name": "stdout",
     "output_type": "stream",
     "text": [
      "Constructing a solver in the cylindric box (-50.0, 0.0, 16.0)\n",
      "spatial and temporal resolutions are (0.04, 0.3, 0.04)\n",
      "Grid resolutions are  (1248, 53, 2)\n",
      "Space charge is added\n",
      "\"Still\" species as are treated as background\n"
     ]
    }
   ],
   "source": [
    "solver = Solver(solver_in)\n",
    "solver.add_gauss_beam(laser_in)\n",
    "electrons = Specie(electrons_in)\n",
    "ions = Specie(ions_in)\n",
    "\n",
    "chimera_in = {\n",
    "    'Solvers':(solver,),'Particles':(electrons,ions),'MovingFrames':(MovingFrame,)\n",
    "}\n",
    "\n",
    "Chimera = ChimeraRun(chimera_in)\n",
    "Diags = Diagnostics(Chimera,(),out_folder=None)"
   ]
  },
  {
   "cell_type": "markdown",
   "metadata": {},
   "source": [
    "# Animated run example"
   ]
  },
  {
   "cell_type": "code",
   "execution_count": 16,
   "metadata": {
    "collapsed": false
   },
   "outputs": [
    {
     "name": "stdout",
     "output_type": "stream",
     "text": [
      "adding inits\n"
     ]
    }
   ],
   "source": [
    "Chimera.make_halfstep()\n",
    "\n",
    "fig, ax1 = plt.subplots(figsize=(12,12),dpi=120)\n",
    "StepAnim = 40\n",
    "\n",
    "ee = Diags.fld_out({'Features':{'Return',},})[0]\n",
    "dens = Diags.dns_out({'Features':{'Return':True,'MaxMode':1}})[0]\n",
    "extnt = np.array([solver.Args['leftX'],solver.Args['rightX'],\n",
    "                  -solver.Args['Rgrid'][-1],solver.Args['Rgrid'][-1]])\n",
    "ax1.set_xlim(extnt[0]+10.,extnt[1])\n",
    "\n",
    "laser = np.real(np.hstack((ee[:,::-1,0,2],ee[:,1:,0,2])))+\\\n",
    "2*np.real(np.hstack((ee[:,::-1,1,2],-ee[:,1:,1,2])))\n",
    "eons = np.real(np.hstack((dens[:,::-1,0],dens[:,1:,0])))+\\\n",
    "2*np.real(np.hstack((dens[:,::-1,1],-dens[:,1:,1])))\n",
    "\n",
    "pl1 = ax1.imshow(np.abs(eons).T, origin='lower',aspect='auto',\n",
    "        extent=extnt,cmap='bone',interpolation='lanczos',vmax=0.01)\n",
    "pl3 = ax1.imshow(laser.T, origin='lower',aspect='auto',\n",
    "                 extent=extnt,cmap=mymap2)\n",
    "\n",
    "def animate(i):\n",
    "    for il in xrange(i*StepAnim,(i+1)*StepAnim):\n",
    "        Chimera.make_step(il)\n",
    "    ee = Diags.fld_out({'Features':{'Return',},})[0]\n",
    "    dens = Diags.dns_out({'Features':{'Return':True,'MaxMode':1}})[0]\n",
    "    extnt = np.array([solver.Args['leftX'],solver.Args['rightX'],\n",
    "                  -solver.Args['Rgrid'][-1],solver.Args['Rgrid'][-1]])\n",
    "\n",
    "    laser = np.real(np.hstack((ee[:,::-1,0,2],ee[:,1:,0,2])))+\\\n",
    "      2*np.real(np.hstack((ee[:,::-1,1,2],-ee[:,1:,1,2])))\n",
    "    eons = np.real(np.hstack((dens[:,::-1,0],dens[:,1:,0])))+\\\n",
    "      2*np.real(np.hstack((dens[:,::-1,1],-dens[:,1:,1])))\n",
    "    extnt[:2] += StepAnim*dt\n",
    "    pl1.set_data(np.abs(eons).T);pl1.set_extent(extnt);pl1.set_clim(0,0.01)\n",
    "    pl3.set_data(laser.T);pl3.set_extent(extnt);pl3.set_clim(-3,3)\n",
    "    ax1.set_xlim(extnt[0]+10.,extnt[1])\n",
    "    return pl1,"
   ]
  },
  {
   "cell_type": "code",
   "execution_count": null,
   "metadata": {
    "collapsed": true
   },
   "outputs": [],
   "source": [
    "%timeit animate(0)"
   ]
  },
  {
   "cell_type": "code",
   "execution_count": 17,
   "metadata": {
    "collapsed": false
   },
   "outputs": [],
   "source": [
    "ani = animation.FuncAnimation(fig, animate,frames=int(Steps2Do/StepAnim),repeat=False)\n",
    "#plt.show()"
   ]
  },
  {
   "cell_type": "code",
   "execution_count": 18,
   "metadata": {
    "collapsed": false
   },
   "outputs": [],
   "source": [
    "plt.rcParams['animation.ffmpeg_path'] = '/usr/local/bin/ffmpeg'\n",
    "FFwriter = animation.FFMpegWriter(fps=10)\n",
    "ani.save('basic_animation1.mp4', writer = FFwriter)"
   ]
  },
  {
   "cell_type": "code",
   "execution_count": null,
   "metadata": {
    "collapsed": true
   },
   "outputs": [],
   "source": []
  }
 ],
 "metadata": {
  "kernelspec": {
   "display_name": "Python 2",
   "language": "python",
   "name": "python2"
  },
  "language_info": {
   "codemirror_mode": {
    "name": "ipython",
    "version": 2
   },
   "file_extension": ".py",
   "mimetype": "text/x-python",
   "name": "python",
   "nbconvert_exporter": "python",
   "pygments_lexer": "ipython2",
   "version": "2.7.11"
  }
 },
 "nbformat": 4,
 "nbformat_minor": 0
}
