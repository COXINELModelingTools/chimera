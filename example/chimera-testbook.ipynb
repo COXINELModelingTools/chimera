{
 "cells": [
  {
   "cell_type": "code",
   "execution_count": null,
   "metadata": {
    "collapsed": false
   },
   "outputs": [],
   "source": [
    "%matplotlib\n",
    "import numpy as np\n",
    "import matplotlib.pyplot as plt\n",
    "from ipyparallel import Client\n",
    "clnts = Client(profile='mpi')\n",
    "clnts[:].clear()\n",
    "clnts[:].activate()\n",
    "%px from mpi4py.MPI import COMM_WORLD as comm\n",
    "mpiindx = range(len(clnts))\n",
    "for i in xrange(len(clnts)): mpiindx[clnts[i]['comm.rank']] = i\n",
    "view = clnts[mpiindx]\n",
    "\n",
    "mpistackR = lambda x:np.vstack((view[x]))\n",
    "mpistackD = lambda x: np.sum((view[x]),axis=0)\n",
    "mpistackP = lambda x: np.concatenate((view[x]),axis=-1)\n",
    "def mpistackRover(x):\n",
    "    loc_arrays = []\n",
    "    for i in xrange(len(view[x])-1):\n",
    "        dat = view[x][i].copy()\n",
    "        dat[:,-1] += view[x][i+1][:,0]\n",
    "        dat = dat[:,1:]\n",
    "        loc_arrays.append(dat)\n",
    "    return np.hstack((loc_arrays))"
   ]
  },
  {
   "cell_type": "code",
   "execution_count": null,
   "metadata": {
    "collapsed": false
   },
   "outputs": [],
   "source": [
    "%%px --block --verbose\n",
    "\n",
    "import numpy as np\n",
    "from sys import path\n",
    "path.append('./src/')\n",
    "from species import Specie\n",
    "from solvers import Solver\n",
    "from chimera_main import ChimeraRun\n",
    "\n",
    "BoxGrid = (0.,20.,10.,0.1,0.1)\n",
    "dt=0.5\n",
    "fu = np.vectorize(lambda x,y,z:np.float(((x-10)**2+y**2+z**2)**0.5<4.))\n",
    "\n",
    "specie_in = { 'RandCell':30, 'Charge':-1, 'Density':1., 'Mass':1., 'Grid':BoxGrid, \n",
    "'TimeStep':dt,'MomentaSpreads':(0.1,0.1,0.1),'Features':('Rsliced')}\n",
    "solver_in = {'MaxAzimuthMode':0,'Grid':BoxGrid,'TimeStep':dt, 'Features':('Rsliced','SpaceCharge')}\n",
    "solver = Solver(comm,solver_in) \n",
    "\n",
    "#MovingFrame = {'TimeStep':1.,'Steps':1,'AbsorbLayer':3}\n",
    "\n",
    "specie = Specie(comm,specie_in)\n",
    "specie.add_particles(specie.gen_parts((5.,15.,0.,4),fu))\n",
    "\n",
    "chimera_in = {'Solvers':(solver,),'Particles':(specie,),'MovingFrames':()}\n",
    "Chimera = ChimeraRun(comm,chimera_in)\n"
   ]
  },
  {
   "cell_type": "code",
   "execution_count": null,
   "metadata": {
    "collapsed": true
   },
   "outputs": [],
   "source": [
    "%%px --block --verbose\n",
    "Chimera.make_halfstep()"
   ]
  },
  {
   "cell_type": "code",
   "execution_count": null,
   "metadata": {
    "collapsed": false
   },
   "outputs": [],
   "source": [
    "%px dens = specie.get_dens_on_grid()\n",
    "plt.clf()\n",
    "plt.imshow( mpistackRover(\"np.abs(dens[:,:,0])\").T,aspect='auto',origin='lower',cmap='spectral',extent=(0,20,0,10))\n",
    "plt.colorbar()"
   ]
  },
  {
   "cell_type": "code",
   "execution_count": null,
   "metadata": {
    "collapsed": true
   },
   "outputs": [],
   "source": [
    "%%px --block --verbose\n",
    "for i in range(10,15):\n",
    "    Chimera.make_step(i)"
   ]
  },
  {
   "cell_type": "code",
   "execution_count": null,
   "metadata": {
    "collapsed": true
   },
   "outputs": [],
   "source": [
    "plt.clf()\n",
    "plt.plot(mpistackP('specie.particles[0]'),mpistackP('specie.particles[1]'),'.')"
   ]
  }
 ],
 "metadata": {
  "kernelspec": {
   "display_name": "Python 2",
   "language": "python",
   "name": "python2"
  },
  "language_info": {
   "codemirror_mode": {
    "name": "ipython",
    "version": 2
   },
   "file_extension": ".py",
   "mimetype": "text/x-python",
   "name": "python",
   "nbconvert_exporter": "python",
   "pygments_lexer": "ipython2",
   "version": "2.7.9"
  }
 },
 "nbformat": 4,
 "nbformat_minor": 0
}
